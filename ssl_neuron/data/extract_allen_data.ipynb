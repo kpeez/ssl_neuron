{
 "cells": [
  {
   "cell_type": "code",
   "execution_count": null,
   "id": "therapeutic-donor",
   "metadata": {},
   "outputs": [
    {
     "ename": "",
     "evalue": "",
     "output_type": "error",
     "traceback": [
      "\u001b[1;31mFailed to start the Kernel. \n",
      "\u001b[1;31mJupyter Server crashed. Unable to connect. \n",
      "\u001b[1;31mError code from Jupyter: 1\n",
      "\u001b[1;31mTraceback (most recent call last):\n",
      "\u001b[1;31m  File \"/share/foxlab-backedup/apps/miniconda3/lib/python3.11/site-packages/jupyter_server/services/sessions/sessionmanager.py\", line 14, in <module>\n",
      "\u001b[1;31m    import sqlite3\n",
      "\u001b[1;31m  File \"/share/foxlab-backedup/apps/miniconda3/lib/python3.11/sqlite3/__init__.py\", line 57, in <module>\n",
      "\u001b[1;31m    from sqlite3.dbapi2 import *\n",
      "\u001b[1;31m  File \"/share/foxlab-backedup/apps/miniconda3/lib/python3.11/sqlite3/dbapi2.py\", line 27, in <module>\n",
      "\u001b[1;31m    from _sqlite3 import *\n",
      "\u001b[1;31mImportError: /share/foxlab-backedup/apps/miniconda3/lib/python3.11/lib-dynload/_sqlite3.cpython-311-x86_64-linux-gnu.so: undefined symbol: sqlite3_trace_v2\n",
      "\u001b[1;31m\n",
      "\u001b[1;31mDuring handling of the above exception, another exception occurred:\n",
      "\u001b[1;31m\n",
      "\u001b[1;31mTraceback (most recent call last):\n",
      "\u001b[1;31m  File \"/share/foxlab-backedup/apps/miniconda3/bin/jupyter-notebook\", line 6, in <module>\n",
      "\u001b[1;31m    from notebook.app import main\n",
      "\u001b[1;31m  File \"/share/foxlab-backedup/apps/miniconda3/lib/python3.11/site-packages/notebook/app.py\", line 17, in <module>\n",
      "\u001b[1;31m    from jupyter_server.serverapp import flags\n",
      "\u001b[1;31m  File \"/share/foxlab-backedup/apps/miniconda3/lib/python3.11/site-packages/jupyter_server/serverapp.py\", line 97, in <module>\n",
      "\u001b[1;31m    from jupyter_server.gateway.managers import (\n",
      "\u001b[1;31m  File \"/share/foxlab-backedup/apps/miniconda3/lib/python3.11/site-packages/jupyter_server/gateway/managers.py\", line 32, in <module>\n",
      "\u001b[1;31m    from ..services.sessions.sessionmanager import SessionManager\n",
      "\u001b[1;31m  File \"/share/foxlab-backedup/apps/miniconda3/lib/python3.11/site-packages/jupyter_server/services/sessions/sessionmanager.py\", line 17, in <module>\n",
      "\u001b[1;31m    from pysqlite2 import dbapi2 as sqlite3  # type:ignore[no-redef]\n",
      "\u001b[1;31m    ^^^^^^^^^^^^^^^^^^^^^^^^^^^^^^^^^^^^^^^\n",
      "\u001b[1;31mModuleNotFoundError: No module named 'pysqlite2'. \n",
      "\u001b[1;31mView Jupyter <a href='command:jupyter.viewOutput'>log</a> for further details."
     ]
    }
   ],
   "source": [
    "%env CUDA_DEVICE_ORDER=PCI_BUS_ID\n",
    "%env CUDA_VISIBLE_DEVICES=0\n",
    "%pylab inline\n",
    "%load_ext autoreload\n",
    "%autoreload 2"
   ]
  },
  {
   "cell_type": "code",
   "execution_count": null,
   "id": "5fa57899",
   "metadata": {},
   "outputs": [],
   "source": []
  },
  {
   "cell_type": "code",
   "execution_count": 2,
   "id": "stretch-novel",
   "metadata": {},
   "outputs": [],
   "source": [
    "from pathlib import Path\n",
    "import pickle\n",
    "import pandas as pd\n",
    "from tqdm import tqdm\n",
    "import networkx as nx\n",
    "import numpy as np\n",
    "\n",
    "try:\n",
    "    from allensdk.core.cell_types_cache import CellTypesCache\n",
    "except ImportError as e:\n",
    "    print(e)\n",
    "    print(\"Installing the Allen SDK\")\n",
    "    ! pip install allensdk"
   ]
  },
  {
   "cell_type": "code",
   "execution_count": 3,
   "id": "liquid-chinese",
   "metadata": {},
   "outputs": [],
   "source": [
    "from ssl_neuron.data.data_utils import connect_graph, remove_axon, rotate_cell\n",
    "from ssl_neuron.utils import neighbors_to_adjacency, plot_neuron, remap_neighbors"
   ]
  },
  {
   "cell_type": "markdown",
   "id": "eight-ancient",
   "metadata": {},
   "source": [
    "#### Load ids"
   ]
  },
  {
   "cell_type": "code",
   "execution_count": 4,
   "id": "british-massachusetts",
   "metadata": {},
   "outputs": [],
   "source": [
    "cell_ids = list(np.load(\"all_ids.npy\"))"
   ]
  },
  {
   "cell_type": "markdown",
   "id": "russian-package",
   "metadata": {},
   "source": [
    "#### Load Cell Types Database"
   ]
  },
  {
   "cell_type": "code",
   "execution_count": 5,
   "id": "offensive-nickname",
   "metadata": {},
   "outputs": [],
   "source": [
    "ctc = CellTypesCache(manifest_file=\"cell_types/manifest.json\")"
   ]
  },
  {
   "cell_type": "markdown",
   "id": "hairy-myanmar",
   "metadata": {},
   "source": [
    "#### Load table with additional information"
   ]
  },
  {
   "cell_type": "code",
   "execution_count": 19,
   "id": "7ef63ee1",
   "metadata": {},
   "outputs": [],
   "source": [
    "dpath = list(Path.cwd().parents)[2] / \"data/allen_cell_types\"\n",
    "metadata_file = f\"{dpath}/info/41593_2019_417_MOESM5_ESM.xlsx\""
   ]
  },
  {
   "cell_type": "code",
   "execution_count": 20,
   "id": "understanding-admission",
   "metadata": {},
   "outputs": [],
   "source": [
    "# Download link in readme (https://github.com/marissaweis/ssl_neuron/tree/main/ssl_neuron/data).\n",
    "\n",
    "# df = pd.read_csv(\"41593_2019_417_MOESM5_ESM.csv\", delimiter=\";\", decimal=\",\")\n",
    "df = pd.read_excel(metadata_file)  # , delimiter=\";\", decimal=\",\")"
   ]
  },
  {
   "cell_type": "code",
   "execution_count": 21,
   "id": "c78e858c",
   "metadata": {},
   "outputs": [
    {
     "data": {
      "text/html": [
       "<div>\n",
       "<style scoped>\n",
       "    .dataframe tbody tr th:only-of-type {\n",
       "        vertical-align: middle;\n",
       "    }\n",
       "\n",
       "    .dataframe tbody tr th {\n",
       "        vertical-align: top;\n",
       "    }\n",
       "\n",
       "    .dataframe thead th {\n",
       "        text-align: right;\n",
       "    }\n",
       "</style>\n",
       "<table border=\"1\" class=\"dataframe\">\n",
       "  <thead>\n",
       "    <tr style=\"text-align: right;\">\n",
       "      <th></th>\n",
       "      <th>specimen_id</th>\n",
       "      <th>e-type</th>\n",
       "      <th>m-type</th>\n",
       "      <th>me-type</th>\n",
       "      <th>upright_angle</th>\n",
       "      <th>soma_distance_from_pia</th>\n",
       "      <th>estimated_shrinkage_factor</th>\n",
       "      <th>estimated_slice_angle</th>\n",
       "    </tr>\n",
       "  </thead>\n",
       "  <tbody>\n",
       "    <tr>\n",
       "      <th>0</th>\n",
       "      <td>313860745</td>\n",
       "      <td>Exc_3</td>\n",
       "      <td>NaN</td>\n",
       "      <td>NaN</td>\n",
       "      <td>NaN</td>\n",
       "      <td>NaN</td>\n",
       "      <td>NaN</td>\n",
       "      <td>NaN</td>\n",
       "    </tr>\n",
       "    <tr>\n",
       "      <th>1</th>\n",
       "      <td>313861411</td>\n",
       "      <td>Inh_10</td>\n",
       "      <td>NaN</td>\n",
       "      <td>NaN</td>\n",
       "      <td>NaN</td>\n",
       "      <td>NaN</td>\n",
       "      <td>NaN</td>\n",
       "      <td>NaN</td>\n",
       "    </tr>\n",
       "    <tr>\n",
       "      <th>2</th>\n",
       "      <td>313861539</td>\n",
       "      <td>Inh_9</td>\n",
       "      <td>NaN</td>\n",
       "      <td>NaN</td>\n",
       "      <td>NaN</td>\n",
       "      <td>NaN</td>\n",
       "      <td>NaN</td>\n",
       "      <td>NaN</td>\n",
       "    </tr>\n",
       "    <tr>\n",
       "      <th>3</th>\n",
       "      <td>313861608</td>\n",
       "      <td>Inh_8</td>\n",
       "      <td>NaN</td>\n",
       "      <td>NaN</td>\n",
       "      <td>NaN</td>\n",
       "      <td>NaN</td>\n",
       "      <td>NaN</td>\n",
       "      <td>NaN</td>\n",
       "    </tr>\n",
       "    <tr>\n",
       "      <th>4</th>\n",
       "      <td>313861677</td>\n",
       "      <td>Exc_3</td>\n",
       "      <td>NaN</td>\n",
       "      <td>NaN</td>\n",
       "      <td>NaN</td>\n",
       "      <td>NaN</td>\n",
       "      <td>NaN</td>\n",
       "      <td>NaN</td>\n",
       "    </tr>\n",
       "    <tr>\n",
       "      <th>...</th>\n",
       "      <td>...</td>\n",
       "      <td>...</td>\n",
       "      <td>...</td>\n",
       "      <td>...</td>\n",
       "      <td>...</td>\n",
       "      <td>...</td>\n",
       "      <td>...</td>\n",
       "      <td>...</td>\n",
       "    </tr>\n",
       "    <tr>\n",
       "      <th>1942</th>\n",
       "      <td>698226504</td>\n",
       "      <td>Exc_3</td>\n",
       "      <td>Spiny_18</td>\n",
       "      <td>ME_Exc_2</td>\n",
       "      <td>141.786098</td>\n",
       "      <td>621.429913</td>\n",
       "      <td>2.515973</td>\n",
       "      <td>14.296986</td>\n",
       "    </tr>\n",
       "    <tr>\n",
       "      <th>1943</th>\n",
       "      <td>698227509</td>\n",
       "      <td>Exc_2</td>\n",
       "      <td>NaN</td>\n",
       "      <td>NaN</td>\n",
       "      <td>NaN</td>\n",
       "      <td>NaN</td>\n",
       "      <td>NaN</td>\n",
       "      <td>NaN</td>\n",
       "    </tr>\n",
       "    <tr>\n",
       "      <th>1944</th>\n",
       "      <td>698230720</td>\n",
       "      <td>Exc_3</td>\n",
       "      <td>Spiny_10</td>\n",
       "      <td>ME_Exc_8</td>\n",
       "      <td>140.199770</td>\n",
       "      <td>577.460428</td>\n",
       "      <td>3.777499</td>\n",
       "      <td>12.829926</td>\n",
       "    </tr>\n",
       "    <tr>\n",
       "      <th>1945</th>\n",
       "      <td>698235442</td>\n",
       "      <td>Exc_3</td>\n",
       "      <td>Spiny_10</td>\n",
       "      <td>ME_Exc_8</td>\n",
       "      <td>145.709739</td>\n",
       "      <td>553.540769</td>\n",
       "      <td>2.450343</td>\n",
       "      <td>12.635798</td>\n",
       "    </tr>\n",
       "    <tr>\n",
       "      <th>1946</th>\n",
       "      <td>698237629</td>\n",
       "      <td>Exc_3</td>\n",
       "      <td>Spiny_10</td>\n",
       "      <td>ME_Exc_8</td>\n",
       "      <td>139.955991</td>\n",
       "      <td>470.696533</td>\n",
       "      <td>2.303298</td>\n",
       "      <td>11.471355</td>\n",
       "    </tr>\n",
       "  </tbody>\n",
       "</table>\n",
       "<p>1947 rows × 8 columns</p>\n",
       "</div>"
      ],
      "text/plain": [
       "      specimen_id  e-type    m-type   me-type  upright_angle  \\\n",
       "0       313860745   Exc_3       NaN       NaN            NaN   \n",
       "1       313861411  Inh_10       NaN       NaN            NaN   \n",
       "2       313861539   Inh_9       NaN       NaN            NaN   \n",
       "3       313861608   Inh_8       NaN       NaN            NaN   \n",
       "4       313861677   Exc_3       NaN       NaN            NaN   \n",
       "...           ...     ...       ...       ...            ...   \n",
       "1942    698226504   Exc_3  Spiny_18  ME_Exc_2     141.786098   \n",
       "1943    698227509   Exc_2       NaN       NaN            NaN   \n",
       "1944    698230720   Exc_3  Spiny_10  ME_Exc_8     140.199770   \n",
       "1945    698235442   Exc_3  Spiny_10  ME_Exc_8     145.709739   \n",
       "1946    698237629   Exc_3  Spiny_10  ME_Exc_8     139.955991   \n",
       "\n",
       "      soma_distance_from_pia  estimated_shrinkage_factor  \\\n",
       "0                        NaN                         NaN   \n",
       "1                        NaN                         NaN   \n",
       "2                        NaN                         NaN   \n",
       "3                        NaN                         NaN   \n",
       "4                        NaN                         NaN   \n",
       "...                      ...                         ...   \n",
       "1942              621.429913                    2.515973   \n",
       "1943                     NaN                         NaN   \n",
       "1944              577.460428                    3.777499   \n",
       "1945              553.540769                    2.450343   \n",
       "1946              470.696533                    2.303298   \n",
       "\n",
       "      estimated_slice_angle  \n",
       "0                       NaN  \n",
       "1                       NaN  \n",
       "2                       NaN  \n",
       "3                       NaN  \n",
       "4                       NaN  \n",
       "...                     ...  \n",
       "1942              14.296986  \n",
       "1943                    NaN  \n",
       "1944              12.829926  \n",
       "1945              12.635798  \n",
       "1946              11.471355  \n",
       "\n",
       "[1947 rows x 8 columns]"
      ]
     },
     "execution_count": 21,
     "metadata": {},
     "output_type": "execute_result"
    }
   ],
   "source": [
    "df"
   ]
  },
  {
   "cell_type": "markdown",
   "id": "regular-bathroom",
   "metadata": {},
   "source": [
    "#### Preprocess cells"
   ]
  },
  {
   "cell_type": "code",
   "execution_count": 8,
   "id": "094457f0",
   "metadata": {},
   "outputs": [
    {
     "data": {
      "text/plain": [
       "313862167"
      ]
     },
     "execution_count": 8,
     "metadata": {},
     "output_type": "execute_result"
    }
   ],
   "source": [
    "cell_ids[0]"
   ]
  },
  {
   "cell_type": "code",
   "execution_count": 9,
   "id": "f31bfc9d",
   "metadata": {},
   "outputs": [
    {
     "data": {
      "text/plain": [
       "specimen_id                   313860745\n",
       "e-type                            Exc_3\n",
       "m-type                              NaN\n",
       "me-type                             NaN\n",
       "upright_angle                       NaN\n",
       "soma_distance_from_pia              NaN\n",
       "estimated_shrinkage_factor          NaN\n",
       "estimated_slice_angle               NaN\n",
       "Name: 0, dtype: object"
      ]
     },
     "execution_count": 9,
     "metadata": {},
     "output_type": "execute_result"
    }
   ],
   "source": [
    "df.iloc[0]"
   ]
  },
  {
   "cell_type": "markdown",
   "id": "2639a164",
   "metadata": {},
   "source": [
    "KP: try loading my own .swc files instead of using allen to download"
   ]
  },
  {
   "cell_type": "code",
   "execution_count": 39,
   "id": "b08b62a1",
   "metadata": {},
   "outputs": [],
   "source": [
    "from allensdk.core.swc import read_swc\n",
    "\n",
    "allen_meta = pd.read_csv(f\"{dpath}/info/ACT_info_swc.csv\")\n",
    "\n",
    "specimen_to_swc = dict(zip(allen_meta[\"specimen__id\"], allen_meta[\"swc__fname\"]))"
   ]
  },
  {
   "cell_type": "code",
   "execution_count": 40,
   "id": "recorded-google",
   "metadata": {},
   "outputs": [
    {
     "name": "stderr",
     "output_type": "stream",
     "text": [
      "  0%|          | 0/430 [00:00<?, ?it/s]"
     ]
    },
    {
     "name": "stderr",
     "output_type": "stream",
     "text": [
      "100%|██████████| 430/430 [11:47<00:00,  1.64s/it] \n"
     ]
    }
   ],
   "source": [
    "for cell_id in tqdm(cell_ids):\n",
    "    path = Path(\"./skeletons/\", str(cell_id))\n",
    "    path.mkdir(parents=True, exist_ok=True)\n",
    "\n",
    "    # morphology = ctc.get_reconstruction(cell_id)\n",
    "    morphology = read_swc(f\"{dpath}/raw/{specimen_to_swc[cell_id]}\")\n",
    "\n",
    "    # Rotate respecitve to pia.\n",
    "    morphology = rotate_cell(cell_id, morphology, df)\n",
    "\n",
    "    # Get soma coordinates.\n",
    "    soma = morphology.soma\n",
    "    soma_pos = np.array([soma[\"x\"], soma[\"y\"], soma[\"z\"]])\n",
    "    soma_id = soma[\"id\"]\n",
    "\n",
    "    # Process graph.\n",
    "    neighbors = {}\n",
    "    idx2node = {}\n",
    "    for i, item in enumerate(morphology.compartment_list):\n",
    "        # Get node features.\n",
    "        sec_type = [0, 0, 0, 0]\n",
    "        sec_type[item[\"type\"] - 1] = 1\n",
    "        feat = tuple([item[\"x\"], item[\"y\"], item[\"z\"], item[\"radius\"]]) + tuple(\n",
    "            sec_type\n",
    "        )\n",
    "        idx2node[i] = feat\n",
    "\n",
    "        # Get neighbors.\n",
    "        neighbors[i] = set(item[\"children\"])\n",
    "        if item[\"parent\"] != -1:\n",
    "            neighbors[i].add(item[\"parent\"])\n",
    "\n",
    "    features = np.array(list(idx2node.values()))\n",
    "\n",
    "    assert ~np.any(np.isnan(features))\n",
    "\n",
    "    # Normalize soma position to origin.\n",
    "    norm_features = features.copy()\n",
    "    norm_features[:, :3] = norm_features[:, :3] - soma_pos\n",
    "\n",
    "    # Test if graph is connected.\n",
    "    adj_matrix = neighbors_to_adjacency(neighbors, range(len(neighbors)))\n",
    "    G = nx.Graph(adj_matrix)\n",
    "    if nx.number_connected_components(G) > 1:\n",
    "        adj_matrix, neighbors = connect_graph(adj_matrix, neighbors, features)\n",
    "\n",
    "    assert len(neighbors) == len(adj_matrix)\n",
    "\n",
    "    # Remove axons.\n",
    "    neighbors, norm_features, soma_id = remove_axon(\n",
    "        neighbors, norm_features, int(soma_id)\n",
    "    )\n",
    "\n",
    "    assert len(neighbors) == len(norm_features)\n",
    "    assert ~np.any(np.isnan(norm_features))\n",
    "\n",
    "    np.save(Path(path, \"features\"), norm_features)\n",
    "    with open(Path(path, \"neighbors.pkl\"), \"wb\") as f:\n",
    "        pickle.dump(dict(neighbors), f, pickle.HIGHEST_PROTOCOL)"
   ]
  },
  {
   "cell_type": "code",
   "execution_count": 41,
   "id": "ce33cea3",
   "metadata": {},
   "outputs": [
    {
     "data": {
      "text/plain": [
       "607124114"
      ]
     },
     "execution_count": 41,
     "metadata": {},
     "output_type": "execute_result"
    }
   ],
   "source": [
    "cell_id"
   ]
  },
  {
   "cell_type": "markdown",
   "id": "drawn-japanese",
   "metadata": {},
   "source": [
    "#### Visualize neuron"
   ]
  },
  {
   "cell_type": "code",
   "execution_count": null,
   "id": "f5a3a32b",
   "metadata": {},
   "outputs": [],
   "source": []
  },
  {
   "cell_type": "code",
   "execution_count": null,
   "id": "50cae1cf",
   "metadata": {},
   "outputs": [],
   "source": []
  },
  {
   "cell_type": "code",
   "execution_count": 42,
   "id": "nutritional-bolivia",
   "metadata": {},
   "outputs": [],
   "source": [
    "# Load neuronal data.\n",
    "path = Path(\"./skeletons/\", \"485835016\")\n",
    "features = np.load(Path(path, \"features.npy\"))\n",
    "with open(Path(path, \"neighbors.pkl\"), \"rb\") as f:\n",
    "    neighbors = pickle.load(f)"
   ]
  },
  {
   "cell_type": "code",
   "execution_count": 43,
   "id": "noble-innocent",
   "metadata": {},
   "outputs": [
    {
     "data": {
      "image/png": "[encoded data removed]",
      "text/plain": [
       "<Figure size 640x480 with 1 Axes>"
      ]
     },
     "metadata": {},
     "output_type": "display_data"
    }
   ],
   "source": [
    "plot_neuron(neighbors, features)"
   ]
  },
  {
   "cell_type": "code",
   "execution_count": null,
   "id": "marine-jersey",
   "metadata": {},
   "outputs": [],
   "source": []
  }
 ],
 "metadata": {
  "kernelspec": {
   "display_name": "Python 3",
   "language": "python",
   "name": "python3"
  },
  "language_info": {
   "codemirror_mode": {
    "name": "ipython",
    "version": 3
   },
   "file_extension": ".py",
   "mimetype": "text/x-python",
   "name": "python",
   "nbconvert_exporter": "python",
   "pygments_lexer": "ipython3",
   "version": "3.11.6"
  }
 },
 "nbformat": 4,
 "nbformat_minor": 5
}
